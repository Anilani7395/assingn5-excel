{
 "cells": [
  {
   "cell_type": "markdown",
   "id": "3ab2a87f",
   "metadata": {},
   "source": [
    "1)the following are the conditions of conditional formatting:\n",
    "*highlight cells\n",
    "*top rules\n",
    "*data bars\n",
    "*new rule"
   ]
  },
  {
   "cell_type": "markdown",
   "id": "9c1f0f95",
   "metadata": {},
   "source": [
    "2)select the cells which we want to insert border.then click on borders in the home page.then click on the borders.then select the line style.then click on the color list and then click color for the border"
   ]
  },
  {
   "cell_type": "markdown",
   "id": "d00e3848",
   "metadata": {},
   "source": [
    "3)first we have to select the cells that we want to format numabers as currency .then in home tab we have to go to number.in that we have to select currency "
   ]
  },
  {
   "cell_type": "markdown",
   "id": "1af1b68d",
   "metadata": {},
   "source": [
    "4)in the home tab click on number group.then in the format cells click the icon and select the percentage"
   ]
  },
  {
   "cell_type": "markdown",
   "id": "29e10e50",
   "metadata": {},
   "source": [
    "5)the short cut to merge two or more cells in excel is A+H+m+M"
   ]
  },
  {
   "cell_type": "markdown",
   "id": "c0320650",
   "metadata": {},
   "source": [
    "6)text function converts numerical vaues into text select the column then in column put = and put value in it"
   ]
  }
 ],
 "metadata": {
  "kernelspec": {
   "display_name": "Python 3 (ipykernel)",
   "language": "python",
   "name": "python3"
  },
  "language_info": {
   "codemirror_mode": {
    "name": "ipython",
    "version": 3
   },
   "file_extension": ".py",
   "mimetype": "text/x-python",
   "name": "python",
   "nbconvert_exporter": "python",
   "pygments_lexer": "ipython3",
   "version": "3.9.13"
  }
 },
 "nbformat": 4,
 "nbformat_minor": 5
}
